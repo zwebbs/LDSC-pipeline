{
 "cells": [
  {
   "cell_type": "code",
   "execution_count": 32,
   "id": "d495dbc6",
   "metadata": {},
   "outputs": [],
   "source": [
    "summary_stat_data = [\n",
    "    {\"name\": \"<pheno1>\", \"sumstats_file\": \"data/summary_stats/<pheno2>.txt\"},\n",
    "    {\"name\": \"<pheno2>\", \"sumstats_file\": \"data/summary_stats/<pheno2>.txt\"}\n",
    "]\n",
    "\n",
    "# munge sumstats args\n",
    "snplist = \"data/ref/w_hm3.snplist\"\n",
    "chunksize = 500000\n",
    "addl_munge_sumstats_args = \"\"\n",
    "\n",
    "# ldsc heritability/ rg  args"
   ]
  },
  {
   "cell_type": "code",
   "execution_count": 27,
   "id": "0f188cb6",
   "metadata": {
    "scrolled": true
   },
   "outputs": [],
   "source": [
    "# iterate through each set of summary stats and \n",
    "# munge into proper format using LDSC munge_sumstats.py\n",
    "output_raw = []\n",
    "for pheno in summary_stat_data:\n",
    "    cmd = (\"python munge_sumstats.py\" +\n",
    "           f\" --sumstats {pheno['sumstats_file']}\" + \n",
    "           f\" --out data/summary_stats/{pheno['name']}\" + \n",
    "           f\" --merge-alleles {snplist}\" + \n",
    "           f\" --chunksize {chunksize} {addl_munge_sumstats_args}\"\n",
    "          )\n",
    "    out_text = !docker exec ldsc-docker $cmd \n",
    "    output_raw.append({\"name\": pheno, \"text\": out_text})"
   ]
  },
  {
   "cell_type": "code",
   "execution_count": null,
   "id": "2438d8bd",
   "metadata": {
    "scrolled": true
   },
   "outputs": [],
   "source": []
  }
 ],
 "metadata": {
  "kernelspec": {
   "display_name": "Python 3 (ipykernel)",
   "language": "python",
   "name": "python3"
  },
  "language_info": {
   "codemirror_mode": {
    "name": "ipython",
    "version": 3
   },
   "file_extension": ".py",
   "mimetype": "text/x-python",
   "name": "python",
   "nbconvert_exporter": "python",
   "pygments_lexer": "ipython3",
   "version": "3.8.10"
  }
 },
 "nbformat": 4,
 "nbformat_minor": 5
}
